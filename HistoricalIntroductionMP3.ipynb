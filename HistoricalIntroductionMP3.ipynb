{
 "metadata": {
  "name": ""
 },
 "nbformat": 3,
 "nbformat_minor": 0,
 "worksheets": [
  {
   "cells": [
    {
     "cell_type": "markdown",
     "metadata": {},
     "source": [
      "A Short Story of MP3 \n",
      "==================\n",
      "\n",
      "Until 1987\n",
      "-----------------------\n",
      "<div style=\"max-width: 800px;line-height:140%;\">\n",
      "<p align=\"justify\">\n",
      "<hr/>\n",
      "In early 1970s, Prof. Dieter Seitzer of Erlangen-Nuremberg University in Germany began considering the problem of transmitting high-quality speech over telephone lines. \n",
      "\n",
      "In the late 1970s, with the introduction of ISDN and fiber optic cables for telecommunication, improved speech coding became less important. At that time, the team of Prof. Seitzer started research in coding of music signals.\n",
      "\n",
      "In 1979, Prof. Seitzer's team developed the first digital signal processing system to do audio compression. Subsequently, Karlheinz Brandenburg, a student in the team, started integrating psychoacoustic principles in the audio coding systems, giving important findings in the hearing properties of the human ear. \n",
      "</div>"
     ]
    },
    {
     "cell_type": "markdown",
     "metadata": {},
     "source": [
      "1987\n",
      "-----------------------\n",
      "<div style=\"max-width: 800px;line-height:140%;\">\n",
      "<hr />\n",
      "<p>\n",
      "<img src=\"http://www.mp3-history.com/en/the_story_of_mp3/_jcr_content/contentPar/tabview_parsys/tabview_tab_0/tabPar/textblockwithpics/image1.img.jpg/audioteam1987.1329744537418.jpg\" />\n",
      "</p>\n",
      "<p align=\"justify\">\n",
      "A research alliance is formed between Erlangen-Nuremberg University and the Fraunhofer Institute for Integrated Circuits. Led by Prof. Heinz Gerh\u00e4user (Fraunhofer IIS), the joint research team puts up a functional real-time codec of the LC-ATC (Low Complexity Adaptive Transform Coding) algorithm as the basis for its research. \n",
      "</p>\n",
      "</div>"
     ]
    },
    {
     "cell_type": "markdown",
     "metadata": {},
     "source": [
      "1988\n",
      "-----------------------\n",
      "<div style=\"max-width: 800px;line-height:140%;\">\n",
      "<hr/>\n",
      "<p>\n",
      "<img src=\"http://www.mp3-history.com/en/the_story_of_mp3/_jcr_content/contentPar/tabview_parsys/tabview_tab_0/tabPar/textblockwithpics_0/image1.img.jpg/lcatc1987.1329744553912.jpg \"/>\n",
      "</p>\n",
      "<p align=\"justify\">\n",
      "The Moving Picture Experts Group (a.k.a. MPEG), is established as a working group of the International Standardisation Organisation. It is in chartered with the mission of developing compressed digital audio and video standards. \n",
      "</p>\n",
      "</div>"
     ]
    },
    {
     "cell_type": "markdown",
     "metadata": {},
     "source": [
      "1989\n",
      "-----------------------\n",
      "<div style=\"max-width: 800px;line-height:140%;\">\n",
      "<hr/>\n",
      "<p>\n",
      "<img src=\"http://www.mp3-history.com/en/the_story_of_mp3/_jcr_content/contentPar/tabview_parsys/tabview_tab_0/tabPar/textblockwithpics_1/image2.img.jpg/CodecundISDN-Telefon_03_1990.1329744200640.jpg\" />\n",
      "</p>\n",
      "<p align=\"justify\">\n",
      "In 1989, Brandenburg finished his doctoral thesis on the OCF algorithm (Optimum Coding in the Frequency Domain), a codec exhibiting a number of characteristics of the today's MP3 technology, including a high frequency resolution filterbank, non-uniform quantization, Huffman coding, and its side information structure. The basic OCF technology is extended towards a system that is capable of coding audio signals at 64 kBit/s in good quality for the first time worldwide, with the capability of transmitting music in real-time over telephone lines.  \n",
      "</p>\n",
      "</div>"
     ]
    },
    {
     "cell_type": "markdown",
     "metadata": {},
     "source": [
      "1991\n",
      "-----------------------\n",
      "<div style=\"max-width: 800px;line-height:140%;\">\n",
      "<hr/>\n",
      "<p>\n",
      "<img src=\"http://www.mp3-history.com/en/the_story_of_mp3/_jcr_content/contentPar/tabview_parsys/tabview_tab_2/tabPar/textblockwithpics/image1.img.jpg/ASPEC-Codec-Dummy-m-Kopfhoerer_1991.1329744419149.jpg\"/>\n",
      "</p>\n",
      "<p align=\"justify\">\n",
      "A new high-performance audio codec called ASPEC (Adaptive Spectral Perceptual Entropy Coding) codec was developed as an improved OCF and contributed by Hannover University, AT&T, and Thomson. The partners proposed ASPEC in 1989 for the forthcoming MPEG audio standard.\n",
      "\n",
      "MPEG in total received 14 proposals for audio coding. The audio coding contributions were merged into four proposals including ASPEC and MUSICAM. After several formal tests, MPEG suggestted to erect a family of three audio coding schemes from MUSICAM and ASPEC: Layer 1 is a low complexity variant of MUSICAM, Layer 2 an optimized version of MUSICAM and Layer 3 is based on ASPEC.\n",
      "\n",
      "The evolution from ASPEC to the final \"MP3\" (MPEG-1, Layer 3) codec involves some technological harmonization with the other planned MPEG-1 audio coders and the addition of a joint stereo coding mode.\n",
      "</p>\n",
      "</div>"
     ]
    },
    {
     "cell_type": "markdown",
     "metadata": {},
     "source": [
      "1992\n",
      "-----------------------\n",
      "<div style=\"max-width: 800px;line-height:140%;\">\n",
      "<hr />\n",
      "<p>\n",
      "<img src=\"http://www.mp3-history.com/en/the_story_of_mp3/_jcr_content/contentPar/tabview_parsys/tabview_tab_3/tabPar/textblockwithpics/image2.img.jpg/ErstesSchalllabor_NestvonMP3_Querformat.1329744685827.jpg\"/>\n",
      "</p>\n",
      "<p align=\"justify\">\n",
      "MPEG presented its first compression standard, MPEG-1, for use in video CDs (CD-I); the first edition is released as ISO/IEC 11172 in August 1993.  \n",
      "</p>\n",
      "</div>"
     ]
    },
    {
     "cell_type": "markdown",
     "metadata": {},
     "source": [
      "1994\n",
      "-----------------------\n",
      "<div style=\"max-width: 800px;line-height:140%;\">\n",
      "<hr/>\n",
      "<p>\n",
      "<img src=\"http://www.mp3-history.com/en/the_story_of_mp3/_jcr_content/contentPar/tabview_parsys/tabview_tab_3/tabPar/textblockwithpics_0/image1.img.jpg/MPEG-Layer3mitPCEinsteckkarte_1996.1329744829119.jpg\"/>\n",
      "</p>\n",
      "<p align=\"justify\">\n",
      "The first generation of one-chip mp3 decoders by Micronas were introduced. \n",
      "</p>\n",
      "</div>"
     ]
    },
    {
     "cell_type": "markdown",
     "metadata": {},
     "source": [
      "1995\n",
      "-----------------------\n",
      "<div style=\"max-width: 800px;line-height:140%;\">\n",
      "<hr/>\n",
      "<p>\n",
      "<img src=\"http://www.mp3-history.com/content/dam/mp3history/en/images/timeline/mp3mail.gif\"/>\n",
      "</p>\n",
      "<p align=\"justify\">\n",
      "The name \u201cMP3\u201d was created. In an internal poll, Fraunhofer researchers unanimously voted for .mp3 as the file-name extension for MPEG Layer 3. \n",
      "</p>\n",
      "</div>"
     ]
    },
    {
     "cell_type": "markdown",
     "metadata": {},
     "source": [
      "1996\n",
      "-----------------------\n",
      "<div style=\"max-width: 800px;line-height:140%;\">\n",
      "<hr />\n",
      "<p>\n",
      "<img src=\"http://www.mp3-history.com/en/the_story_of_mp3/_jcr_content/contentPar/tabview_parsys/tabview_tab_5/tabPar/textblockwithpics/image1.img.jpg/disketten.1329745254216.jpg\"/>\n",
      "</p>\n",
      "<p align=\"justify\">\n",
      "Worldspace Radio chose MP3 for audio coding. \n",
      "</p>\n",
      "</div>"
     ]
    },
    {
     "cell_type": "markdown",
     "metadata": {},
     "source": [
      "1997\n",
      "-----------------------\n",
      "<div style=\"max-width: 800px;line-height:140%;\">\n",
      "<hr/>\n",
      "<p align=\"justify\">\n",
      "Michael Robertson started <a href=\"http://www.mp3.com\">mp3.com</a> as a web site for information about mp3 technology.\n",
      "</p>\n",
      "</div>"
     ]
    },
    {
     "cell_type": "markdown",
     "metadata": {},
     "source": [
      "1998\n",
      "-----------------------\n",
      "<div style=\"max-width: 800px;line-height:140%;\">\n",
      "<hr/>\n",
      "<p>\n",
      "<img src=\"http://www.mp3-history.com/en/the_story_of_mp3/_jcr_content/contentPar/tabview_parsys/tabview_tab_5/tabPar/textblockwithpics_1/image1.img.jpg/MP3_mpman_2.1329745288134.jpg\"/>\n",
      "</p>\n",
      "<p align=\"justify\">\n",
      "The era of portable MP3 listening began with the introduction of Diamond Multimedia\u2019s \"Rio 100\" in the U.S. and Saehan Information Systems\u2019s \"MPMAN\" in Korea, the first portable players using solid-state flash memory to store and play compressed MP3 music files.\n",
      "</p>\n",
      "</div>"
     ]
    },
    {
     "cell_type": "markdown",
     "metadata": {},
     "source": [
      "2000-2006\n",
      "-----------------------\n",
      "<div style=\"max-width: 800px;line-height:140%;\">\n",
      "<hr/>\n",
      "<p align=\"justify\">\n",
      "The increasing popularity of MP3 portables triggered many companies to launch similar portable devices for compressed music playback.\n",
      "</p>\n",
      "</div>"
     ]
    },
    {
     "cell_type": "markdown",
     "metadata": {},
     "source": [
      "###References\n",
      "-  [1] The story of MP3, Fraunhofer Institute for Integrated Circuits IIS, <http://www.mp3-history.com/en/the_story_of_mp3.html>"
     ]
    }
   ],
   "metadata": {}
  }
 ]
}